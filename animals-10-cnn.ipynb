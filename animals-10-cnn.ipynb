{
 "cells": [
  {
   "cell_type": "markdown",
   "metadata": {},
   "source": [
    "# CNN animals-10 Classifier"
   ]
  },
  {
   "cell_type": "code",
   "execution_count": 1,
   "metadata": {
    "_cell_guid": "b1076dfc-b9ad-4769-8c92-a6c4dae69d19",
    "_uuid": "8f2839f25d086af736a60e9eeb907d3b93b6e0e5"
   },
   "outputs": [
    {
     "name": "stdout",
     "output_type": "stream",
     "text": [
      "['working', 'lib', 'input', 'src']\n",
      "['animals']\n",
      "['raw-img']\n",
      "['farfalla', 'pecora', 'gallina', 'ragno', 'mucca', 'gatto', 'elefante', 'cavallo', 'cane', 'scoiattolo']\n"
     ]
    }
   ],
   "source": [
    "#Folder Structure\n",
    "import os\n",
    "print(os.listdir(\"../\"))\n",
    "print(os.listdir(\"../input/\"))\n",
    "print(os.listdir(\"../input/animals/\"))\n",
    "print(os.listdir(\"../input/animals/raw-img\"))"
   ]
  },
  {
   "cell_type": "markdown",
   "metadata": {},
   "source": [
    "---"
   ]
  },
  {
   "cell_type": "code",
   "execution_count": 2,
   "metadata": {},
   "outputs": [],
   "source": [
    "#Config\n",
    "bs = 80\n",
    "ep = 50\n",
    "dim1 = dim2 = 256"
   ]
  },
  {
   "cell_type": "markdown",
   "metadata": {},
   "source": [
    "---"
   ]
  },
  {
   "cell_type": "markdown",
   "metadata": {},
   "source": [
    "# Building the Neural Network"
   ]
  },
  {
   "cell_type": "code",
   "execution_count": 3,
   "metadata": {},
   "outputs": [
    {
     "name": "stderr",
     "output_type": "stream",
     "text": [
      "Using TensorFlow backend.\n"
     ]
    }
   ],
   "source": [
    "#importing files for CNN\n",
    "import keras\n",
    "from keras.models import Sequential\n",
    "from keras.layers import Convolution2D\n",
    "from keras.layers import MaxPooling2D\n",
    "from keras.layers import Flatten\n",
    "from keras.layers import Dense\n",
    "from keras.layers import Dropout"
   ]
  },
  {
   "cell_type": "code",
   "execution_count": 4,
   "metadata": {},
   "outputs": [],
   "source": [
    "#model init\n",
    "model = Sequential()\n",
    "\n",
    "#conv layer\n",
    "model.add(Convolution2D(64, (3, 3), activation='relu', input_shape=(dim1,dim2,3)))\n",
    "\n",
    "#pooling layer\n",
    "model.add(MaxPooling2D(pool_size=(2,2)))\n",
    "\n",
    "#additional pairs\n",
    "model.add(Convolution2D(64, (3, 3), activation='relu'))\n",
    "model.add(MaxPooling2D(pool_size=(2,2)))\n",
    "\n",
    "model.add(Convolution2D(128, (3, 3), activation='relu'))\n",
    "model.add(MaxPooling2D(pool_size=(2,2)))\n",
    "\n",
    "model.add(Convolution2D(128, (3, 3), activation='relu'))\n",
    "model.add(MaxPooling2D(pool_size=(2,2)))\n",
    "\n",
    "#flat layer\n",
    "model.add(Flatten())"
   ]
  },
  {
   "cell_type": "code",
   "execution_count": 5,
   "metadata": {},
   "outputs": [
    {
     "name": "stdout",
     "output_type": "stream",
     "text": [
      "_________________________________________________________________\n",
      "Layer (type)                 Output Shape              Param #   \n",
      "=================================================================\n",
      "conv2d_1 (Conv2D)            (None, 254, 254, 64)      1792      \n",
      "_________________________________________________________________\n",
      "max_pooling2d_1 (MaxPooling2 (None, 127, 127, 64)      0         \n",
      "_________________________________________________________________\n",
      "conv2d_2 (Conv2D)            (None, 125, 125, 64)      36928     \n",
      "_________________________________________________________________\n",
      "max_pooling2d_2 (MaxPooling2 (None, 62, 62, 64)        0         \n",
      "_________________________________________________________________\n",
      "conv2d_3 (Conv2D)            (None, 60, 60, 128)       73856     \n",
      "_________________________________________________________________\n",
      "max_pooling2d_3 (MaxPooling2 (None, 30, 30, 128)       0         \n",
      "_________________________________________________________________\n",
      "conv2d_4 (Conv2D)            (None, 28, 28, 128)       147584    \n",
      "_________________________________________________________________\n",
      "max_pooling2d_4 (MaxPooling2 (None, 14, 14, 128)       0         \n",
      "_________________________________________________________________\n",
      "flatten_1 (Flatten)          (None, 25088)             0         \n",
      "_________________________________________________________________\n",
      "dense_1 (Dense)              (None, 512)               12845568  \n",
      "_________________________________________________________________\n",
      "dropout_1 (Dropout)          (None, 512)               0         \n",
      "_________________________________________________________________\n",
      "dense_2 (Dense)              (None, 512)               262656    \n",
      "_________________________________________________________________\n",
      "dropout_2 (Dropout)          (None, 512)               0         \n",
      "_________________________________________________________________\n",
      "dense_3 (Dense)              (None, 512)               262656    \n",
      "_________________________________________________________________\n",
      "dropout_3 (Dropout)          (None, 512)               0         \n",
      "_________________________________________________________________\n",
      "dense_4 (Dense)              (None, 10)                5130      \n",
      "=================================================================\n",
      "Total params: 13,636,170\n",
      "Trainable params: 13,636,170\n",
      "Non-trainable params: 0\n",
      "_________________________________________________________________\n"
     ]
    }
   ],
   "source": [
    "#ann connection\n",
    "\n",
    "#hidden layers\n",
    "model.add(Dense(512, activation='relu'))\n",
    "model.add(Dropout(rate=0.4))\n",
    "model.add(Dense(512, activation='relu'))\n",
    "model.add(Dropout(rate=0.3))\n",
    "model.add(Dense(512, activation='relu'))\n",
    "model.add(Dropout(rate=0.2))\n",
    "\n",
    "#output layer\n",
    "model.add(Dense(units=10, activation='softmax'))\n",
    "\n",
    "model.summary()"
   ]
  },
  {
   "cell_type": "code",
   "execution_count": 6,
   "metadata": {},
   "outputs": [],
   "source": [
    "#brigning all of it together\n",
    "model.compile(optimizer='adam', loss='categorical_crossentropy', metrics=['accuracy'])"
   ]
  },
  {
   "cell_type": "markdown",
   "metadata": {},
   "source": [
    "---"
   ]
  },
  {
   "cell_type": "markdown",
   "metadata": {},
   "source": [
    "# Image Preprocessing & Model Fitting"
   ]
  },
  {
   "cell_type": "code",
   "execution_count": 7,
   "metadata": {},
   "outputs": [],
   "source": [
    "#import\n",
    "from keras.preprocessing.image import ImageDataGenerator"
   ]
  },
  {
   "cell_type": "code",
   "execution_count": 8,
   "metadata": {},
   "outputs": [],
   "source": [
    "image_data_generator = ImageDataGenerator(\n",
    "    validation_split=0.2,\n",
    "    rescale=1./255,\n",
    "    shear_range=0.2,\n",
    "    zoom_range=0.2,\n",
    "    horizontal_flip=True,\n",
    ")"
   ]
  },
  {
   "cell_type": "code",
   "execution_count": 9,
   "metadata": {},
   "outputs": [
    {
     "name": "stdout",
     "output_type": "stream",
     "text": [
      "Found 22618 images belonging to 10 classes.\n",
      "Found 5648 images belonging to 10 classes.\n"
     ]
    }
   ],
   "source": [
    "train_generator = image_data_generator.flow_from_directory(\n",
    "    '../input/animals/raw-img',\n",
    "    target_size = (dim1, dim2),\n",
    "    batch_size = bs,\n",
    "    subset=\"training\"\n",
    ")\n",
    "\n",
    "validation_generator = image_data_generator.flow_from_directory(\n",
    "    '../input/animals/raw-img',\n",
    "    target_size = (dim1, dim2),\n",
    "    batch_size = bs,\n",
    "    subset=\"validation\"\n",
    ")"
   ]
  },
  {
   "cell_type": "code",
   "execution_count": 10,
   "metadata": {},
   "outputs": [
    {
     "data": {
      "text/plain": [
       "{'cane': 0,\n",
       " 'cavallo': 1,\n",
       " 'elefante': 2,\n",
       " 'farfalla': 3,\n",
       " 'gallina': 4,\n",
       " 'gatto': 5,\n",
       " 'mucca': 6,\n",
       " 'pecora': 7,\n",
       " 'ragno': 8,\n",
       " 'scoiattolo': 9}"
      ]
     },
     "execution_count": 10,
     "metadata": {},
     "output_type": "execute_result"
    }
   ],
   "source": [
    "#Indices\n",
    "'''\n",
    "cane  -   Dog\n",
    "cavallo  -  Horse\n",
    "elefante  -  Elephant\n",
    "farfalla  -  Butterfly\n",
    "gallina  -  Hen\n",
    "gatto  -  Cat\n",
    "mucca  -  Cow\n",
    "pecora  -  Sheep\n",
    "ragno  -  Spider\n",
    "scoiattolo  -  Squirrel\n",
    "'''\n",
    "\n",
    "train_generator.class_indices"
   ]
  },
  {
   "cell_type": "code",
   "execution_count": 11,
   "metadata": {},
   "outputs": [
    {
     "name": "stdout",
     "output_type": "stream",
     "text": [
      "Epoch 1/50\n",
      "283/282 [==============================] - 508s 2s/step - loss: 2.0298 - acc: 0.2747 - val_loss: 1.6915 - val_acc: 0.3970\n",
      "Epoch 2/50\n",
      "283/282 [==============================] - 442s 2s/step - loss: 1.5801 - acc: 0.4583 - val_loss: 1.3438 - val_acc: 0.5409\n",
      "Epoch 3/50\n",
      "283/282 [==============================] - 439s 2s/step - loss: 1.3610 - acc: 0.5385 - val_loss: 1.1298 - val_acc: 0.6209\n",
      "Epoch 4/50\n",
      "283/282 [==============================] - 438s 2s/step - loss: 1.2229 - acc: 0.5892 - val_loss: 1.0781 - val_acc: 0.6383\n",
      "Epoch 5/50\n",
      "283/282 [==============================] - 441s 2s/step - loss: 1.1191 - acc: 0.6282 - val_loss: 0.9581 - val_acc: 0.6829\n",
      "Epoch 6/50\n",
      "283/282 [==============================] - 446s 2s/step - loss: 1.0395 - acc: 0.6580 - val_loss: 0.9308 - val_acc: 0.6877\n",
      "Epoch 7/50\n",
      "283/282 [==============================] - 447s 2s/step - loss: 0.9758 - acc: 0.6761 - val_loss: 0.9144 - val_acc: 0.6953\n",
      "Epoch 8/50\n",
      "283/282 [==============================] - 450s 2s/step - loss: 0.8997 - acc: 0.7031 - val_loss: 0.8997 - val_acc: 0.7002\n",
      "Epoch 9/50\n",
      "283/282 [==============================] - 453s 2s/step - loss: 0.8502 - acc: 0.7192 - val_loss: 0.8355 - val_acc: 0.7300\n",
      "Epoch 10/50\n",
      "283/282 [==============================] - 456s 2s/step - loss: 0.8116 - acc: 0.7321 - val_loss: 0.8711 - val_acc: 0.7263\n",
      "Epoch 11/50\n",
      "283/282 [==============================] - 455s 2s/step - loss: 0.7621 - acc: 0.7504 - val_loss: 0.7960 - val_acc: 0.7411\n",
      "Epoch 12/50\n",
      "283/282 [==============================] - 451s 2s/step - loss: 0.7223 - acc: 0.7613 - val_loss: 0.8185 - val_acc: 0.7419\n",
      "Epoch 13/50\n",
      "283/282 [==============================] - 446s 2s/step - loss: 0.6937 - acc: 0.7712 - val_loss: 0.8199 - val_acc: 0.7404\n",
      "Epoch 14/50\n",
      "283/282 [==============================] - 446s 2s/step - loss: 0.6672 - acc: 0.7797 - val_loss: 0.8154 - val_acc: 0.7316\n",
      "Epoch 15/50\n",
      "283/282 [==============================] - 440s 2s/step - loss: 0.6340 - acc: 0.7911 - val_loss: 0.7848 - val_acc: 0.7443\n",
      "Epoch 16/50\n",
      "283/282 [==============================] - 412s 1s/step - loss: 0.5971 - acc: 0.8016 - val_loss: 0.8241 - val_acc: 0.7434\n",
      "Epoch 17/50\n",
      "283/282 [==============================] - 410s 1s/step - loss: 0.5980 - acc: 0.8029 - val_loss: 0.8108 - val_acc: 0.7456\n",
      "Epoch 18/50\n",
      "283/282 [==============================] - 425s 2s/step - loss: 0.5559 - acc: 0.8176 - val_loss: 0.7395 - val_acc: 0.7620\n",
      "Epoch 19/50\n",
      "283/282 [==============================] - 425s 2s/step - loss: 0.5445 - acc: 0.8227 - val_loss: 0.7751 - val_acc: 0.7601\n",
      "Epoch 20/50\n",
      "283/282 [==============================] - 426s 2s/step - loss: 0.5319 - acc: 0.8256 - val_loss: 0.7736 - val_acc: 0.7558\n",
      "Epoch 21/50\n",
      "260/282 [==========================>...] - ETA: 27s - loss: 0.5127 - acc: 0.8350"
     ]
    }
   ],
   "source": [
    "history = model.fit_generator(\n",
    "                    train_generator,\n",
    "                    steps_per_epoch = (22618 / bs),\n",
    "                    epochs = ep,\n",
    "                    validation_data = validation_generator,\n",
    "                    validation_steps = (5648/bs))"
   ]
  },
  {
   "cell_type": "markdown",
   "metadata": {},
   "source": [
    "---"
   ]
  },
  {
   "cell_type": "markdown",
   "metadata": {},
   "source": [
    "# Visualize"
   ]
  },
  {
   "cell_type": "code",
   "execution_count": 12,
   "metadata": {},
   "outputs": [],
   "source": [
    "#Visualize\n",
    "import matplotlib.pyplot as plt\n",
    "#Graphing our training and validation\n",
    "acc = history.history['acc']\n",
    "val_acc = history.history['val_acc']\n",
    "loss = history.history['loss']\n",
    "val_loss = history.history['val_loss']\n",
    "epochs = range(len(acc))"
   ]
  },
  {
   "cell_type": "code",
   "execution_count": 13,
   "metadata": {},
   "outputs": [
    {
     "data": {
      "text/plain": [
       "<Figure size 432x288 with 0 Axes>"
      ]
     },
     "execution_count": 13,
     "metadata": {},
     "output_type": "execute_result"
    },
    {
     "data": {
      "image/png": "[encoded data removed]",
      "text/plain": [
       "<Figure size 432x288 with 1 Axes>"
      ]
     },
     "metadata": {
      "needs_background": "light"
     },
     "output_type": "display_data"
    },
    {
     "data": {
      "text/plain": [
       "<Figure size 432x288 with 0 Axes>"
      ]
     },
     "metadata": {},
     "output_type": "display_data"
    }
   ],
   "source": [
    "plt.plot(epochs, acc, color='red', label='Training acc')\n",
    "plt.plot(epochs, val_acc, color='blue', label='Validation acc')\n",
    "plt.title('Training and validation accuracy')\n",
    "plt.ylabel('accuracy') \n",
    "plt.xlabel('epoch')\n",
    "plt.legend()\n",
    "plt.figure()"
   ]
  },
  {
   "cell_type": "code",
   "execution_count": 14,
   "metadata": {},
   "outputs": [
    {
     "data": {
      "image/png": "[encoded data removed]",
      "text/plain": [
       "<Figure size 432x288 with 1 Axes>"
      ]
     },
     "metadata": {
      "needs_background": "light"
     },
     "output_type": "display_data"
    }
   ],
   "source": [
    "plt.plot(epochs, loss, color='red', label='Training loss')\n",
    "plt.plot(epochs, val_loss, color='blue', label='Validation loss')\n",
    "plt.title('Training and validation loss')\n",
    "plt.ylabel('loss') \n",
    "plt.xlabel('epoch')\n",
    "plt.legend()\n",
    "plt.show()"
   ]
  },
  {
   "cell_type": "markdown",
   "metadata": {},
   "source": [
    "---"
   ]
  },
  {
   "cell_type": "markdown",
   "metadata": {},
   "source": [
    "# Saving The Model"
   ]
  },
  {
   "cell_type": "code",
   "execution_count": 15,
   "metadata": {},
   "outputs": [],
   "source": [
    "#Entire Model\n",
    "model.save('entire_model.h5')"
   ]
  },
  {
   "cell_type": "code",
   "execution_count": 16,
   "metadata": {},
   "outputs": [
    {
     "name": "stdout",
     "output_type": "stream",
     "text": [
      "Saved model to disk\n"
     ]
    }
   ],
   "source": [
    "#Model Architecture & Weights\n",
    "from keras.models import model_from_json\n",
    "\n",
    "# model architecture to JSON\n",
    "with open(\"model_architecture.json\", \"w\") as f:\n",
    "    f.write(model.to_json())\n",
    "    \n",
    "# model weights to HDF5\n",
    "model.save_weights(\"model_weights.h5\")\n",
    "print(\"Saved model to disk\")"
   ]
  },
  {
   "cell_type": "code",
   "execution_count": 17,
   "metadata": {},
   "outputs": [],
   "source": [
    "#end-of-code"
   ]
  }
 ],
 "metadata": {
  "kernelspec": {
   "display_name": "Python 3",
   "language": "python",
   "name": "python3"
  },
  "language_info": {
   "codemirror_mode": {
    "name": "ipython",
    "version": 3
   },
   "file_extension": ".py",
   "mimetype": "text/x-python",
   "name": "python",
   "nbconvert_exporter": "python",
   "pygments_lexer": "ipython3",
   "version": "3.6.7"
  }
 },
 "nbformat": 4,
 "nbformat_minor": 1
}
